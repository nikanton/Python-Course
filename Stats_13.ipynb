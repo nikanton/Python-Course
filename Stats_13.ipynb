{
 "cells": [
  {
   "cell_type": "markdown",
   "metadata": {},
   "source": [
    "# 13. Коэффициенты корреляции."
   ]
  },
  {
   "cell_type": "markdown",
   "metadata": {},
   "source": [
    "Темпы роста ВВП России за $2006-2012$ в процентах (всего и на душу населения, $2005 -\n",
    "100%$): $108.2, 117.4, 123.5, 113.9, 119.0, 124.1, 128.4, 108.5, 118.0, 124.2, 114.5, 119.6, 124.6, 128.7$.\n",
    "Те же цифры для Украины: $107, 116, 118, 101, 105, 111, 111, 108, 117, 121, 103, 108, 114, 115$.\n",
    "Проверить гипотезу о независимости данных выборок."
   ]
  },
  {
   "cell_type": "code",
   "execution_count": 80,
   "metadata": {
    "collapsed": true
   },
   "outputs": [],
   "source": [
    "import numpy as np\n",
    "from scipy.stats import norm\n",
    "from scipy.stats import t\n",
    "import matplotlib.pyplot as plt\n",
    "%matplotlib inline"
   ]
  },
  {
   "cell_type": "code",
   "execution_count": 44,
   "metadata": {
    "collapsed": true
   },
   "outputs": [],
   "source": [
    "x = [108.2, 117.4, 123.5, 113.9, 119.0, 124.1, 128.4, 108.5, 118.0, 124.2, 114.5, 119.6, 124.6, 128.7]"
   ]
  },
  {
   "cell_type": "code",
   "execution_count": 45,
   "metadata": {
    "collapsed": true
   },
   "outputs": [],
   "source": [
    "y = [107, 116, 118, 101, 105, 111, 111, 108, 117, 121, 103, 108, 114, 115]"
   ]
  },
  {
   "cell_type": "code",
   "execution_count": 46,
   "metadata": {},
   "outputs": [],
   "source": [
    "x_1 = np.zeros(len(x), dtype=int)\n",
    "for num, i in enumerate(sorted(x)):\n",
    "    x_1[x.index(i)] = int(num + 1)"
   ]
  },
  {
   "cell_type": "code",
   "execution_count": 47,
   "metadata": {},
   "outputs": [
    {
     "data": {
      "text/plain": [
       "array([ 1,  5,  9,  3,  7, 10, 13,  2,  6, 11,  4,  8, 12, 14])"
      ]
     },
     "execution_count": 47,
     "metadata": {},
     "output_type": "execute_result"
    }
   ],
   "source": [
    "x_1"
   ]
  },
  {
   "cell_type": "code",
   "execution_count": 48,
   "metadata": {},
   "outputs": [],
   "source": [
    "y_1 = np.zeros(len(y), dtype=float)\n",
    "prev = 0\n",
    "for num, i in enumerate(sorted(y)):\n",
    "    y_1[y.index(i)] = num + 1"
   ]
  },
  {
   "cell_type": "code",
   "execution_count": 50,
   "metadata": {
    "collapsed": true
   },
   "outputs": [],
   "source": [
    "y_1[5] = y_1[6] = 7.5"
   ]
  },
  {
   "cell_type": "code",
   "execution_count": 51,
   "metadata": {
    "collapsed": true
   },
   "outputs": [],
   "source": [
    "y_1[7] = y_1[11] = 5.5"
   ]
  },
  {
   "cell_type": "code",
   "execution_count": 52,
   "metadata": {},
   "outputs": [
    {
     "data": {
      "text/plain": [
       "array([  4. ,  11. ,  13. ,   1. ,   3. ,   7.5,   7.5,   5.5,  12. ,\n",
       "        14. ,   2. ,   5.5,   9. ,  10. ])"
      ]
     },
     "execution_count": 52,
     "metadata": {},
     "output_type": "execute_result"
    }
   ],
   "source": [
    "y_1"
   ]
  },
  {
   "cell_type": "code",
   "execution_count": 53,
   "metadata": {
    "collapsed": true
   },
   "outputs": [],
   "source": [
    "S = 0\n",
    "R = 0\n",
    "for i in range(len(x)):\n",
    "    for j in range(len(y)):\n",
    "        if i < j:\n",
    "            break\n",
    "        if np.sign(x_1[i] - x_1[j]) * np.sign(y_1[i] - y_1[j]):\n",
    "            S += 1\n",
    "        else:\n",
    "            R += 1"
   ]
  },
  {
   "cell_type": "code",
   "execution_count": 63,
   "metadata": {},
   "outputs": [
    {
     "name": "stdout",
     "output_type": "stream",
     "text": [
      "Кэндалл: 0.8021978021978022\n"
     ]
    }
   ],
   "source": [
    "print('Кэндалл:', 2. / (len(x) * (len(x) - 1)) * (S - R))"
   ]
  },
  {
   "cell_type": "code",
   "execution_count": 64,
   "metadata": {
    "collapsed": true
   },
   "outputs": [],
   "source": [
    "r_s = 1 - 6. / ((len(x)) ** 3 - len(x)) * sum((x_1 - y_1) ** 2)\n",
    "n = len(x)"
   ]
  },
  {
   "cell_type": "code",
   "execution_count": 65,
   "metadata": {},
   "outputs": [
    {
     "name": "stdout",
     "output_type": "stream",
     "text": [
      "Спирмэн: 0.538461538462\n"
     ]
    }
   ],
   "source": [
    "print('Спирмэн:', r_s)"
   ]
  },
  {
   "cell_type": "code",
   "execution_count": 62,
   "metadata": {},
   "outputs": [
    {
     "name": "stdout",
     "output_type": "stream",
     "text": [
      "Поправленный коэффициент Спирмэна: 2.07752252445\n"
     ]
    }
   ],
   "source": [
    "print('Поправленный коэффициент Спирмэна:', 0.5 * r_s * (np.sqrt(n - 1) + np.sqrt((n - 2) / (1 - r_s ** 2))))"
   ]
  },
  {
   "cell_type": "code",
   "execution_count": 73,
   "metadata": {
    "collapsed": true
   },
   "outputs": [],
   "source": [
    "def z(alpha):\n",
    "    return 0.5 * (t.ppf(alpha, n - 2) + norm.ppf(alpha))"
   ]
  },
  {
   "cell_type": "code",
   "execution_count": 78,
   "metadata": {},
   "outputs": [
    {
     "name": "stdout",
     "output_type": "stream",
     "text": [
      "-2.17823529721 2.17823529721\n"
     ]
    }
   ],
   "source": [
    "print(z(0.02), z(1 - 0.02))"
   ]
  },
  {
   "cell_type": "code",
   "execution_count": 82,
   "metadata": {},
   "outputs": [
    {
     "data": {
      "text/plain": [
       "[<matplotlib.lines.Line2D at 0x2ba46eb8b00>]"
      ]
     },
     "execution_count": 82,
     "metadata": {},
     "output_type": "execute_result"
    },
    {
     "data": {
      "image/png": "[encoded data removed]",
      "text/plain": [
       "<matplotlib.figure.Figure at 0x2ba46eb87b8>"
      ]
     },
     "metadata": {},
     "output_type": "display_data"
    }
   ],
   "source": [
    "plt.plot(range(len(x)), x)\n",
    "plt.plot(range(len(y)), y)"
   ]
  },
  {
   "cell_type": "markdown",
   "metadata": {},
   "source": [
    "Из всего рассмотренного видно, что данные выборки зависимы."
   ]
  }
 ],
 "metadata": {
  "kernelspec": {
   "display_name": "Python 3",
   "language": "python",
   "name": "python3"
  },
  "language_info": {
   "codemirror_mode": {
    "name": "ipython",
    "version": 3
   },
   "file_extension": ".py",
   "mimetype": "text/x-python",
   "name": "python",
   "nbconvert_exporter": "python",
   "pygments_lexer": "ipython3",
   "version": "3.6.1"
  }
 },
 "nbformat": 4,
 "nbformat_minor": 2
}
